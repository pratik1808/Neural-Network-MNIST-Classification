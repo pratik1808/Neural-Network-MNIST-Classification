{
 "cells": [
  {
   "cell_type": "code",
   "execution_count": 1,
   "metadata": {
    "id": "WJ0oSikkCagm"
   },
   "outputs": [],
   "source": [
    "import tensorflow as tf\n",
    "import numpy as np\n",
    "import matplotlib.pyplot as plt\n",
    "import pandas as pd\n",
    "%matplotlib inline"
   ]
  },
  {
   "cell_type": "code",
   "execution_count": 2,
   "metadata": {
    "id": "cC90Zc1JCag0"
   },
   "outputs": [],
   "source": [
    "mnist = tf.keras.datasets.mnist\n",
    "(x_train, y_train),(x_test, y_test) = mnist.load_data()\n",
    "x_train, x_test = x_train / 255.0, x_test / 255.0\n",
    "ndata_train = x_train.shape[0]\n",
    "ndata_test = x_test.shape[0]\n"
   ]
  },
  {
   "cell_type": "code",
   "execution_count": 3,
   "metadata": {
    "id": "WLk18_VGCag4"
   },
   "outputs": [],
   "source": [
    "x_train = x_train.reshape((ndata_train,28,28,1))\n",
    "x_test = x_test.reshape((ndata_test,28,28,1))\n",
    "xshape = x_train.shape[1:4]\n"
   ]
  },
  {
   "cell_type": "code",
   "execution_count": 4,
   "metadata": {},
   "outputs": [],
   "source": [
    "import warnings\n",
    "warnings.filterwarnings(\"ignore\")"
   ]
  },
  {
   "cell_type": "code",
   "execution_count": 5,
   "metadata": {},
   "outputs": [
    {
     "name": "stderr",
     "output_type": "stream",
     "text": [
      "2023-02-19 18:39:59.082089: I tensorflow/core/platform/cpu_feature_guard.cc:193] This TensorFlow binary is optimized with oneAPI Deep Neural Network Library (oneDNN) to use the following CPU instructions in performance-critical operations:  SSE4.1 SSE4.2\n",
      "To enable them in other operations, rebuild TensorFlow with the appropriate compiler flags.\n"
     ]
    }
   ],
   "source": [
    "NNmodel2 = tf.keras.models.Sequential()\n",
    "NNmodel2.add(tf.keras.layers.Conv2D(filters=150,kernel_size=(5,5),activation=tf.nn.relu,input_shape=xshape))\n",
    "NNmodel2.add(tf.keras.layers.MaxPooling2D(pool_size = (2,2),strides=2))\n",
    "NNmodel2.add(tf.keras.layers.Conv2D(filters=80,kernel_size=(3,3),activation=tf.nn.relu,input_shape=xshape))\n",
    "NNmodel2.add(tf.keras.layers.MaxPooling2D(pool_size = (2,2),strides=1))\n",
    "NNmodel2.add(tf.keras.layers.Conv2D(filters=30,kernel_size=(3,3),activation=tf.nn.relu,input_shape=xshape))\n",
    "NNmodel2.add(tf.keras.layers.MaxPooling2D(pool_size = (2,2),strides=1))\n",
    "NNmodel2.add(tf.keras.layers.Flatten())\n",
    "NNmodel2.add(tf.keras.layers.Dense(256,activation=tf.nn.sigmoid,kernel_regularizer = tf.keras.regularizers.l1(0.0001)))\n",
    "NNmodel2.add(tf.keras.layers.Dense(128,activation=tf.nn.relu,kernel_regularizer = tf.keras.regularizers.l1(0.0001)))\n",
    "NNmodel2.add(tf.keras.layers.Dense(64,activation=tf.nn.softplus,kernel_regularizer = tf.keras.regularizers.l1(0.0001)))\n",
    "NNmodel2.add(tf.keras.layers.Dense(32,activation=tf.nn.sigmoid,kernel_regularizer = tf.keras.regularizers.l1(0.0001)))\n",
    "NNmodel2.add(tf.keras.layers.Dense(10,activation=tf.nn.softmax))"
   ]
  },
  {
   "cell_type": "code",
   "execution_count": 6,
   "metadata": {
    "id": "caahsRsCCahX"
   },
   "outputs": [
    {
     "name": "stdout",
     "output_type": "stream",
     "text": [
      "Model: \"sequential\"\n",
      "_________________________________________________________________\n",
      " Layer (type)                Output Shape              Param #   \n",
      "=================================================================\n",
      " conv2d (Conv2D)             (None, 24, 24, 150)       3900      \n",
      "                                                                 \n",
      " max_pooling2d (MaxPooling2D  (None, 12, 12, 150)      0         \n",
      " )                                                               \n",
      "                                                                 \n",
      " conv2d_1 (Conv2D)           (None, 10, 10, 80)        108080    \n",
      "                                                                 \n",
      " max_pooling2d_1 (MaxPooling  (None, 9, 9, 80)         0         \n",
      " 2D)                                                             \n",
      "                                                                 \n",
      " conv2d_2 (Conv2D)           (None, 7, 7, 30)          21630     \n",
      "                                                                 \n",
      " max_pooling2d_2 (MaxPooling  (None, 6, 6, 30)         0         \n",
      " 2D)                                                             \n",
      "                                                                 \n",
      " flatten (Flatten)           (None, 1080)              0         \n",
      "                                                                 \n",
      " dense (Dense)               (None, 256)               276736    \n",
      "                                                                 \n",
      " dense_1 (Dense)             (None, 128)               32896     \n",
      "                                                                 \n",
      " dense_2 (Dense)             (None, 64)                8256      \n",
      "                                                                 \n",
      " dense_3 (Dense)             (None, 32)                2080      \n",
      "                                                                 \n",
      " dense_4 (Dense)             (None, 10)                330       \n",
      "                                                                 \n",
      "=================================================================\n",
      "Total params: 453,908\n",
      "Trainable params: 453,908\n",
      "Non-trainable params: 0\n",
      "_________________________________________________________________\n"
     ]
    }
   ],
   "source": [
    "NNmodel2.compile(optimizer='adam',\n",
    "              loss='sparse_categorical_crossentropy',\n",
    "              metrics=['accuracy'])\n",
    "\n",
    "NNmodel2.summary()"
   ]
  },
  {
   "cell_type": "code",
   "execution_count": 15,
   "metadata": {
    "id": "eVhxwOPGCahZ",
    "scrolled": true
   },
   "outputs": [
    {
     "name": "stdout",
     "output_type": "stream",
     "text": [
      "Epoch 1/5\n",
      "96/96 [==============================] - 52s 541ms/step - loss: 0.1057 - accuracy: 0.9944 - val_loss: 0.1127 - val_accuracy: 0.9915\n",
      "Epoch 2/5\n",
      "96/96 [==============================] - 58s 606ms/step - loss: 0.0874 - accuracy: 0.9974 - val_loss: 0.1044 - val_accuracy: 0.9923\n",
      "Epoch 3/5\n",
      "96/96 [==============================] - 63s 656ms/step - loss: 0.0805 - accuracy: 0.9980 - val_loss: 0.0991 - val_accuracy: 0.9922\n",
      "Epoch 4/5\n",
      "96/96 [==============================] - 82s 852ms/step - loss: 0.0760 - accuracy: 0.9982 - val_loss: 0.0959 - val_accuracy: 0.9918\n",
      "Epoch 5/5\n",
      "96/96 [==============================] - 65s 682ms/step - loss: 0.0727 - accuracy: 0.9984 - val_loss: 0.0943 - val_accuracy: 0.9918\n"
     ]
    },
    {
     "data": {
      "text/plain": [
       "<keras.callbacks.History at 0x7fe659ebc6d0>"
      ]
     },
     "execution_count": 15,
     "metadata": {},
     "output_type": "execute_result"
    }
   ],
   "source": [
    "NNmodel2.fit(x_train,y_train,epochs=5,validation_split=0.2,batch_size=500)\n"
   ]
  },
  {
   "cell_type": "code",
   "execution_count": 16,
   "metadata": {
    "id": "jHJL_Z56Dfp_"
   },
   "outputs": [
    {
     "name": "stdout",
     "output_type": "stream",
     "text": [
      "313/313 [==============================] - 4s 12ms/step\n"
     ]
    },
    {
     "data": {
      "text/plain": [
       "array([[1.4116545e-06, 3.6897682e-04, 2.3384223e-04, ..., 9.9878079e-01,\n",
       "        2.8622751e-05, 2.8941719e-04],\n",
       "       [1.6440448e-04, 3.0861935e-04, 9.9828267e-01, ..., 1.3610881e-04,\n",
       "        3.3482202e-04, 3.0365924e-05],\n",
       "       [1.1452247e-04, 9.9891043e-01, 1.5512883e-04, ..., 3.8165547e-04,\n",
       "        1.3694183e-04, 7.2946018e-06],\n",
       "       ...,\n",
       "       [5.8458672e-06, 1.0488492e-04, 9.0586829e-05, ..., 1.1965778e-04,\n",
       "        2.7359941e-04, 5.8203889e-04],\n",
       "       [1.2529216e-04, 2.2391696e-05, 2.3957793e-06, ..., 9.7798431e-05,\n",
       "        3.6807032e-04, 7.5613393e-04],\n",
       "       [2.1336126e-04, 6.4517480e-05, 1.2371164e-04, ..., 8.0009668e-06,\n",
       "        2.4870370e-04, 7.5161870e-07]], dtype=float32)"
      ]
     },
     "execution_count": 16,
     "metadata": {},
     "output_type": "execute_result"
    }
   ],
   "source": [
    "NNmodel2.predict(x_test)\n"
   ]
  },
  {
   "cell_type": "code",
   "execution_count": 46,
   "metadata": {
    "id": "YkdlAs_4CahZ"
   },
   "outputs": [
    {
     "name": "stdout",
     "output_type": "stream",
     "text": [
      "313/313 [==============================] - 6s 19ms/step\n",
      "0.9936\n"
     ]
    }
   ],
   "source": [
    "pred_probs2 = NNmodel2.predict(x_test)\n",
    "pred2 = np.argmax(pred_probs2, axis=1)\n",
    "print(np.mean(pred2==y_test))\n"
   ]
  },
  {
   "cell_type": "markdown",
   "metadata": {},
   "source": [
    "This model gives an accuracy of 99.18% on the validation set and an accuracy of 99.36% on the test dataset. We now use this model to be trained on the whole training set and check it's accuracy on the test dataset."
   ]
  },
  {
   "cell_type": "code",
   "execution_count": 193,
   "metadata": {},
   "outputs": [
    {
     "name": "stdout",
     "output_type": "stream",
     "text": [
      "Epoch 1/5\n",
      "120/120 [==============================] - 51s 422ms/step - loss: 1.7454 - accuracy: 0.7232\n",
      "Epoch 2/5\n",
      "120/120 [==============================] - 63s 526ms/step - loss: 0.5828 - accuracy: 0.9691\n",
      "Epoch 3/5\n",
      "120/120 [==============================] - 67s 561ms/step - loss: 0.4032 - accuracy: 0.9787\n",
      "Epoch 4/5\n",
      "120/120 [==============================] - 80s 669ms/step - loss: 0.3270 - accuracy: 0.9823\n",
      "Epoch 5/5\n",
      "120/120 [==============================] - 72s 600ms/step - loss: 0.2826 - accuracy: 0.9840\n"
     ]
    },
    {
     "data": {
      "text/plain": [
       "<keras.callbacks.History at 0x7fe5993ff640>"
      ]
     },
     "execution_count": 193,
     "metadata": {},
     "output_type": "execute_result"
    }
   ],
   "source": [
    "NNmodel2.fit(x_train,y_train,epochs=5,batch_size=500) #No Validation split"
   ]
  },
  {
   "cell_type": "code",
   "execution_count": 195,
   "metadata": {},
   "outputs": [
    {
     "name": "stdout",
     "output_type": "stream",
     "text": [
      "313/313 [==============================] - 3s 10ms/step\n",
      "0.9853\n"
     ]
    }
   ],
   "source": [
    "pred_probs2 = NNmodel2.predict(x_test)\n",
    "pred2 = np.argmax(pred_probs2, axis=1)\n",
    "print(np.mean(pred2==y_test))"
   ]
  },
  {
   "cell_type": "markdown",
   "metadata": {},
   "source": [
    "Training this model on the whole training dataset performs poorly on the test dataset as the accuracy drops to 98.53% on the test dataset. This is possibly due to overfitting on the training dataset."
   ]
  },
  {
   "cell_type": "code",
   "execution_count": 38,
   "metadata": {},
   "outputs": [
    {
     "name": "stderr",
     "output_type": "stream",
     "text": [
      "WARNING:absl:Found untraced functions such as _jit_compiled_convolution_op, _jit_compiled_convolution_op, _jit_compiled_convolution_op while saving (showing 3 of 3). These functions will not be directly callable after loading.\n"
     ]
    },
    {
     "name": "stdout",
     "output_type": "stream",
     "text": [
      "INFO:tensorflow:Assets written to: MyModel/assets\n"
     ]
    },
    {
     "name": "stderr",
     "output_type": "stream",
     "text": [
      "INFO:tensorflow:Assets written to: MyModel/assets\n"
     ]
    }
   ],
   "source": [
    "NNmodel2.save('MyModel')"
   ]
  },
  {
   "cell_type": "code",
   "execution_count": 7,
   "metadata": {},
   "outputs": [],
   "source": [
    "from keras.models import load_model\n",
    "model = load_model('MyModel')"
   ]
  },
  {
   "cell_type": "code",
   "execution_count": 8,
   "metadata": {},
   "outputs": [
    {
     "name": "stdout",
     "output_type": "stream",
     "text": [
      "313/313 [==============================] - 6s 19ms/step\n",
      "0.9936\n"
     ]
    }
   ],
   "source": [
    "pred_probs2 = model.predict(x_test)\n",
    "pred2 = np.argmax(pred_probs2, axis=1)\n",
    "print(np.mean(pred2==y_test))"
   ]
  },
  {
   "cell_type": "markdown",
   "metadata": {},
   "source": [
    "Capturing some results of misclassifications for the website"
   ]
  },
  {
   "cell_type": "code",
   "execution_count": 9,
   "metadata": {},
   "outputs": [],
   "source": [
    "y=x_test[pred2!=y_test][16]"
   ]
  },
  {
   "cell_type": "code",
   "execution_count": 10,
   "metadata": {},
   "outputs": [
    {
     "data": {
      "text/plain": [
       "7"
      ]
     },
     "execution_count": 10,
     "metadata": {},
     "output_type": "execute_result"
    }
   ],
   "source": [
    "y_test[pred2!=y_test][16]# actual"
   ]
  },
  {
   "cell_type": "code",
   "execution_count": 11,
   "metadata": {},
   "outputs": [
    {
     "data": {
      "text/plain": [
       "9"
      ]
     },
     "execution_count": 11,
     "metadata": {},
     "output_type": "execute_result"
    }
   ],
   "source": [
    "pred2[pred2!=y_test][16]#predicted"
   ]
  },
  {
   "cell_type": "code",
   "execution_count": 12,
   "metadata": {},
   "outputs": [
    {
     "data": {
      "text/plain": [
       "9    12\n",
       "6    10\n",
       "5     8\n",
       "7     7\n",
       "3     6\n",
       "4     6\n",
       "8     5\n",
       "1     4\n",
       "0     3\n",
       "2     3\n",
       "dtype: int64"
      ]
     },
     "execution_count": 12,
     "metadata": {},
     "output_type": "execute_result"
    }
   ],
   "source": [
    "pd.DataFrame(y_test[pred2!=y_test]).value_counts()"
   ]
  },
  {
   "cell_type": "code",
   "execution_count": 13,
   "metadata": {},
   "outputs": [],
   "source": [
    "np.savetxt(\"misclassified 7 as 9.csv\",y.reshape(28,28), delimiter=\",\")"
   ]
  },
  {
   "cell_type": "code",
   "execution_count": 14,
   "metadata": {},
   "outputs": [],
   "source": [
    "def display_image_uploaded(file):\n",
    "    k=plt.imshow(file, cmap=plt.cm.gray_r)  \n",
    "    plt.axis='off'\n",
    "    return k"
   ]
  },
  {
   "cell_type": "code",
   "execution_count": 15,
   "metadata": {},
   "outputs": [
    {
     "data": {
      "text/plain": [
       "<matplotlib.image.AxesImage at 0x7fc9b4831070>"
      ]
     },
     "execution_count": 15,
     "metadata": {},
     "output_type": "execute_result"
    },
    {
     "data": {
      "image/png": "[encoded data removed]",
      "text/plain": [
       "<Figure size 640x480 with 1 Axes>"
      ]
     },
     "metadata": {},
     "output_type": "display_data"
    }
   ],
   "source": [
    "display_image_uploaded(y)\n"
   ]
  },
  {
   "cell_type": "code",
   "execution_count": 16,
   "metadata": {},
   "outputs": [],
   "source": [
    "#!pip install anvil-uplink"
   ]
  },
  {
   "cell_type": "code",
   "execution_count": 17,
   "metadata": {},
   "outputs": [
    {
     "name": "stdout",
     "output_type": "stream",
     "text": [
      "Connecting to wss://anvil.works/uplink\n",
      "Anvil websocket open\n",
      "Connected to \"Development\" as SERVER\n"
     ]
    }
   ],
   "source": [
    "import anvil.server\n",
    "anvil.server.connect(\"ZQJRD3KA5LEI3NABPXFSVB6C-HTMVW62S2VAY2AIW\")"
   ]
  },
  {
   "cell_type": "code",
   "execution_count": 18,
   "metadata": {},
   "outputs": [],
   "source": [
    "@anvil.server.callable\n",
    "def predict_num(inputarray):\n",
    "    formatted=np.expand_dims(inputarray, axis=0)\n",
    "    inputtopredict=np.expand_dims(formatted, axis=3)\n",
    "    return_value = np.argmax(model.predict(inputtopredict), axis=1)[0]\n",
    "    return return_value"
   ]
  },
  {
   "cell_type": "code",
   "execution_count": null,
   "metadata": {},
   "outputs": [],
   "source": [
    "anvil.server.wait_forever()"
   ]
  },
  {
   "cell_type": "code",
   "execution_count": null,
   "metadata": {},
   "outputs": [],
   "source": []
  }
 ],
 "metadata": {
  "colab": {
   "provenance": []
  },
  "kernelspec": {
   "display_name": "Python 3 (ipykernel)",
   "language": "python",
   "name": "python3"
  },
  "language_info": {
   "codemirror_mode": {
    "name": "ipython",
    "version": 3
   },
   "file_extension": ".py",
   "mimetype": "text/x-python",
   "name": "python",
   "nbconvert_exporter": "python",
   "pygments_lexer": "ipython3",
   "version": "3.9.12"
  }
 },
 "nbformat": 4,
 "nbformat_minor": 1
}
